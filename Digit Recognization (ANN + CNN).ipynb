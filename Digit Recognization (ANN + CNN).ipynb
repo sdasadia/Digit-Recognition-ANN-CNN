{
 "cells": [
  {
   "cell_type": "markdown",
   "metadata": {},
   "source": [
    "### In this notebook, I will train multilayer neural network in TensorFlow and Keras. I will use MNIST Hand written digit dataset. The goal is to build a model to recognize the hand written digit. "
   ]
  },
  {
   "cell_type": "code",
   "execution_count": 3,
   "metadata": {},
   "outputs": [],
   "source": [
    "# Load Required packages\n",
    "\n",
    "import os\n",
    "import sys\n",
    "import cv2\n",
    "import imageio\n",
    "import pylab\n",
    "import keras\n",
    "import numpy as np\n",
    "import pandas as pd\n",
    "from scipy.misc import imread\n",
    "from sklearn.metrics import accuracy_score\n",
    "import tensorflow as tf\n",
    "import matplotlib.pyplot as plt\n",
    "%matplotlib inline\n",
    "\n",
    "seed = 128\n",
    "rng = np.random.RandomState(seed)"
   ]
  },
  {
   "cell_type": "markdown",
   "metadata": {},
   "source": [
    "## Load & Process the Dataset"
   ]
  },
  {
   "cell_type": "code",
   "execution_count": 4,
   "metadata": {},
   "outputs": [
    {
     "name": "stdout",
     "output_type": "stream",
     "text": [
      "train: (49000, 28, 28)\n",
      "test: (21000, 28, 28)\n"
     ]
    },
    {
     "data": {
      "image/png": "[encoded data removed]",
      "text/plain": [
       "<Figure size 432x288 with 1 Axes>"
      ]
     },
     "metadata": {
      "needs_background": "light"
     },
     "output_type": "display_data"
    }
   ],
   "source": [
    "# Read Test / Train Images\n",
    "\n",
    "train = pd.read_csv('train.csv')\n",
    "test = pd.read_csv('Test.csv')\n",
    "\n",
    "#Read Images: Images are located in ./Images/train/*.png format\n",
    "\n",
    "def read_images(path_to_dir, dataset = train):\n",
    "    temp = []\n",
    "    for image in dataset.filename:\n",
    "        image_path = os.path.join(path_to_dir,image)\n",
    "        img = imageio.imread(image_path, as_gray=True)\n",
    "        img = img.astype('float32')\n",
    "        temp.append(img)\n",
    "    return np.stack(temp)\n",
    "    \n",
    "X_train = read_images(\"./Images/train/\", train)\n",
    "X_test = read_images(\"./Images/test/\", test)\n",
    "\n",
    "Y_train = np.array(train.label.tolist())\n",
    "\n",
    "print \"train:\", X_train.shape\n",
    "print \"test:\", X_test.shape\n",
    "\n",
    "plt.imshow(X_train[2]);"
   ]
  },
  {
   "cell_type": "markdown",
   "metadata": {},
   "source": [
    "### Alternatively, load Keras MNIST dataset"
   ]
  },
  {
   "cell_type": "code",
   "execution_count": 7,
   "metadata": {},
   "outputs": [
    {
     "name": "stdout",
     "output_type": "stream",
     "text": [
      "(60000, 28, 28)\n",
      "(60000,)\n"
     ]
    },
    {
     "data": {
      "image/png": "[encoded data removed]",
      "text/plain": [
       "<Figure size 432x288 with 1 Axes>"
      ]
     },
     "metadata": {
      "needs_background": "light"
     },
     "output_type": "display_data"
    }
   ],
   "source": [
    "(X_train, y_train), (X_test, y_test) = keras.datasets.mnist.load_data()\n",
    "\n",
    "print X_train.shape\n",
    "print y_train.shape\n",
    "\n",
    "# normalize x\n",
    "X_train = X_train.astype(float) / 255.\n",
    "X_test = X_test.astype(float) / 255.\n",
    "\n",
    "# reserve the last 10000 training examples for validation\n",
    "X_train, X_val = X_train[:-10000], X_train[-10000:]\n",
    "y_train, y_val = y_train[:-10000], y_train[-10000:]\n",
    "\n",
    "plt.imshow(X_train[0], cmap=\"Greys\");"
   ]
  },
  {
   "cell_type": "code",
   "execution_count": 8,
   "metadata": {},
   "outputs": [
    {
     "name": "stdout",
     "output_type": "stream",
     "text": [
      "Train: 50000 images. Each with the dim of 28 X 28\n",
      "Test: 10000 images. Each with the dim of 28 X 28\n"
     ]
    }
   ],
   "source": [
    "print \"Train:\", X_train.shape[0], \"images. Each with the dim of\", X_train.shape[1], \"X\", X_train.shape[2]\n",
    "print \"Test:\", X_test.shape[0], \"images. Each with the dim of\", X_test.shape[1], \"X\", X_test.shape[2]"
   ]
  },
  {
   "cell_type": "markdown",
   "metadata": {},
   "source": [
    "***1.  This means that there are 50,000 training images. Each with the dimension of 28 X 28 pixels. We need to flatten this so that each training image is one row and number of columns\n",
    "are 728 (= 28 x 28). This will make 728 input features for our model***\n",
    "\n",
    "***2.  The output is a vector containig the true digit with values in [0,1,2,3,4,5,6,7,8,9] (10 classes). For modeling purpose, we need hot encode the output.***"
   ]
  },
  {
   "cell_type": "code",
   "execution_count": 9,
   "metadata": {},
   "outputs": [
    {
     "name": "stdout",
     "output_type": "stream",
     "text": [
      "Before flattening: (50000, 28, 28)\n",
      "After flattening: (50000, 784)\n",
      "Before Hot Encoding: (50000,)\n",
      "After Hot Encoding: (50000, 10)\n"
     ]
    }
   ],
   "source": [
    "# Reshape the training, validate and test examples + Hot encode Y labels\n",
    "\n",
    "def preprocess(X,y):\n",
    "    X_out = np.reshape(X,(X.shape[0],X.shape[1]*X.shape[2]))\n",
    "    n_values = np.max(y) + 1\n",
    "    y_hot = np.eye(n_values)[y]\n",
    "    return X_out, y_hot\n",
    "\n",
    "X_train_flatten, y_train_one_hot = preprocess(X_train, y_train)\n",
    "X_val_flatten, y_val_one_hot = preprocess(X_val, y_val)\n",
    "X_test_flatten, y_test_one_hot = preprocess(X_test, y_test)\n",
    "\n",
    "print \"Before flattening:\", X_train.shape\n",
    "print \"After flattening:\", X_train_flatten.shape\n",
    "\n",
    "print \"Before Hot Encoding:\", y_train.shape\n",
    "print \"After Hot Encoding:\",y_train_one_hot.shape"
   ]
  },
  {
   "cell_type": "code",
   "execution_count": 10,
   "metadata": {},
   "outputs": [],
   "source": [
    "def batch_creator(batch_size, x_train, y_train):\n",
    "    \"\"\"Create batch with random samples and return appropriate format\"\"\"\n",
    "    \n",
    "    batch_mask = rng.choice(x_train.shape[0], batch_size)\n",
    "    batch_x = x_train[batch_mask]\n",
    "    batch_y = y_train[batch_mask]   \n",
    "    return batch_x, batch_y"
   ]
  },
  {
   "cell_type": "markdown",
   "metadata": {},
   "source": [
    "## 1) Logistic Regression Model:\n",
    "\n",
    "*** Model: W.X + b ***\n",
    "\n",
    "- X = [50000, 784]\n",
    "- W = [784, 10] \n",
    "- b = [50000,10]\n",
    "- Y = [50000,10]"
   ]
  },
  {
   "cell_type": "code",
   "execution_count": 11,
   "metadata": {},
   "outputs": [],
   "source": [
    "batch_size = 100\n",
    "learning_rate = 0.0001\n",
    "epochs = 100\n",
    "total_batch = int(X_train_flatten.shape[0]/batch_size)\n",
    "\n",
    "\n",
    "# creating placeholders\n",
    "x = tf.placeholder(tf.float32, shape=[None, X_train_flatten.shape[1]])\n",
    "y = tf.placeholder(tf.float32, shape=[None, y_train_one_hot.shape[1]])\n",
    "\n",
    "# creating variables\n",
    "W = tf.Variable(tf.zeros([X_train_flatten.shape[1], y_train_one_hot.shape[1]]))\n",
    "b = tf.Variable(tf.zeros(y_train_one_hot.shape[1]))\n",
    "     \n",
    "# initializing the model\n",
    "y_pred = tf.matmul(x,W) + b\n",
    " \n",
    "# Defining Cost Function\n",
    "cross_entropy = tf.reduce_mean(tf.nn.softmax_cross_entropy_with_logits_v2(logits = y_pred, labels = y))\n",
    "  \n",
    "# Implementing Gradient Descent Algorithm\n",
    "train_op = tf.train.AdamOptimizer(learning_rate=learning_rate).minimize(cross_entropy)"
   ]
  },
  {
   "cell_type": "code",
   "execution_count": 14,
   "metadata": {},
   "outputs": [
    {
     "name": "stdout",
     "output_type": "stream",
     "text": [
      "Epoch: 0 cost = 1.62157\n",
      "Epoch: 10 cost = 0.37400\n",
      "Epoch: 20 cost = 0.31316\n",
      "Epoch: 30 cost = 0.29382\n",
      "Epoch: 40 cost = 0.28256\n",
      "Epoch: 50 cost = 0.27833\n",
      "Epoch: 60 cost = 0.27030\n",
      "Epoch: 70 cost = 0.27045\n",
      "Epoch: 80 cost = 0.26334\n",
      "Epoch: 90 cost = 0.25327\n",
      "\n",
      "Training complete!\n",
      "Validation Accuracy: 0.9314\n",
      "Test Accuracy: 0.9262\n"
     ]
    }
   ],
   "source": [
    "# Initializing the session\n",
    "with tf.Session() as sess:\n",
    "    sess.run(tf.global_variables_initializer())\n",
    " \n",
    "    # Creating batches of data for epochs\n",
    "    for epoch in range(epochs):\n",
    "        avg_cost = 0 \n",
    "        for i in range(total_batch):\n",
    "            batch_x, batch_y = batch_creator(batch_size, X_train_flatten, y_train_one_hot)\n",
    "            _, c = sess.run([train_op, cross_entropy], feed_dict = {x: batch_x, y: batch_y})\n",
    "            avg_cost += c / total_batch\n",
    "        if epoch%10 == 0:    \n",
    "            print \"Epoch:\", (epoch), \"cost =\", \"{:.5f}\".format(avg_cost)\n",
    "  \n",
    "\n",
    "    print \"\\nTraining complete!\"\n",
    "     \n",
    "    # Print Accuracy of the model\n",
    "    pred_temp = tf.equal(tf.argmax(y_pred, 1), tf.argmax(y, 1))\n",
    "    accuracy = tf.reduce_mean(tf.cast(pred_temp, \"float\"))\n",
    "    print \"Validation Accuracy:\", accuracy.eval({x: X_val_flatten, y:y_val_one_hot})\n",
    "    print \"Test Accuracy:\", accuracy.eval({x: X_test_flatten, y:y_test_one_hot})\n",
    "    \n",
    "    predict = tf.argmax(y_pred, 1)\n",
    "    pred = predict.eval({x: X_test_flatten})"
   ]
  },
  {
   "cell_type": "markdown",
   "metadata": {},
   "source": [
    "## Multilayer Perceptron Model:"
   ]
  },
  {
   "cell_type": "markdown",
   "metadata": {},
   "source": [
    "*** Model Outline (Computational Graph):***\n",
    "\n",
    "* Hidden Layer1 Z1 = W1*X + b1 ---> A1 = ReLu(Z1)\n",
    "* Hidden Layer2 Z2 = W2*A1 + b2 ---> A2 = ReLu(Z2)\n",
    "* Output Layter = W3*A2 + b3 \n",
    "\n",
    "\n",
    "*** Run the model: ***\n",
    "\n",
    "- for each epoch, do:\n",
    "- for each batch, do:\n",
    "- create pre-processed batch\n",
    "- run optimizer by feeding batch\n",
    "- find cost and reiterate to minimize\n",
    "\n"
   ]
  },
  {
   "cell_type": "code",
   "execution_count": 17,
   "metadata": {},
   "outputs": [],
   "source": [
    "# number of neurons in each layer\n",
    "input_num_units = 28*28\n",
    "hidden_num_units1 = 200\n",
    "hidden_num_units2 = 300\n",
    "output_num_units = 10\n",
    "epochs = 200\n",
    "batch_size = 512\n",
    "learning_rate = 0.02\n",
    "\n",
    "\n",
    "# define input placeholders\n",
    "x = tf.placeholder(tf.float32, [None, input_num_units])\n",
    "y = tf.placeholder(tf.float32, [None, output_num_units])\n",
    "\n",
    "\n",
    "# define weights and biases of the neural network\n",
    "weights = {\n",
    "    'hidden1': tf.Variable(tf.random_normal([input_num_units, hidden_num_units1], seed=seed)),\n",
    "    'hidden2': tf.Variable(tf.random_normal([hidden_num_units1, hidden_num_units2], seed=seed)),\n",
    "    'output': tf.Variable(tf.random_normal([hidden_num_units2, output_num_units], seed=seed))}\n",
    "\n",
    "biases = {\n",
    "    'hidden1': tf.Variable(tf.random_normal([hidden_num_units1], seed=seed)),\n",
    "    'hidden2': tf.Variable(tf.random_normal([hidden_num_units2], seed=seed)),\n",
    "    'output': tf.Variable(tf.random_normal([output_num_units], seed=seed))}\n",
    "\n",
    "# Define Layers\n",
    "hidden_layer1 = tf.add(tf.matmul(x, weights['hidden1']), biases['hidden1'])\n",
    "hidden_layer1 = tf.nn.relu(hidden_layer1)\n",
    "\n",
    "hidden_layer2 = tf.add(tf.matmul(hidden_layer1, weights['hidden2']), biases['hidden2'])\n",
    "hidden_layer2 = tf.nn.relu(hidden_layer2)\n",
    "\n",
    "output_layer = tf.matmul(hidden_layer2, weights['output']) + biases['output']\n",
    "\n",
    "cost = tf.reduce_mean(tf.nn.softmax_cross_entropy_with_logits_v2(logits = output_layer, labels = y))\n",
    "optimizer = tf.train.AdamOptimizer(learning_rate=learning_rate).minimize(cost)"
   ]
  },
  {
   "cell_type": "code",
   "execution_count": 18,
   "metadata": {},
   "outputs": [
    {
     "name": "stdout",
     "output_type": "stream",
     "text": [
      "Epoch: 0 cost = 115.37379\n",
      "Epoch: 50 cost = 0.55731\n",
      "Epoch: 100 cost = 0.52511\n",
      "Epoch: 150 cost = 0.47539\n",
      "\n",
      "Training complete!\n",
      "Validation Accuracy: 0.9751\n",
      "Test Accuracy: 0.9759\n",
      "CPU times: user 8min 7s, sys: 42.5 s, total: 8min 49s\n",
      "Wall time: 1min 44s\n"
     ]
    }
   ],
   "source": [
    "%%time \n",
    "\n",
    "init = tf.global_variables_initializer()\n",
    "\n",
    "with tf.Session() as sess:\n",
    "\n",
    "    sess.run(init)\n",
    "    \n",
    "    for epoch in range(epochs):\n",
    "        avg_cost = 0\n",
    "        total_batch = int(X_train_flatten.shape[0]/batch_size)\n",
    "        for i in range(total_batch):\n",
    "            batch_x, batch_y = batch_creator(batch_size, X_train_flatten, y_train_one_hot)\n",
    "            _, c = sess.run([optimizer, cost], feed_dict = {x: batch_x, y: batch_y})\n",
    "            avg_cost += c / total_batch\n",
    "        if epoch%50 == 0:    \n",
    "            print \"Epoch:\", (epoch), \"cost =\", \"{:.5f}\".format(avg_cost)\n",
    "    \n",
    "    print \"\\nTraining complete!\"\n",
    "    \n",
    "    pred_temp = tf.equal(tf.argmax(output_layer, 1), tf.argmax(y, 1))\n",
    "    accuracy = tf.reduce_mean(tf.cast(pred_temp, \"float\"))\n",
    "    print \"Validation Accuracy:\", accuracy.eval({x: X_val_flatten, y:y_val_one_hot})\n",
    "    print \"Test Accuracy:\", accuracy.eval({x: X_test_flatten, y:y_test_one_hot})\n",
    "    \n",
    "    predict = tf.argmax(output_layer, 1)\n",
    "    pred = predict.eval({x: X_test_flatten})"
   ]
  },
  {
   "cell_type": "markdown",
   "metadata": {},
   "source": [
    "### Building Model in Keras"
   ]
  },
  {
   "cell_type": "code",
   "execution_count": 28,
   "metadata": {},
   "outputs": [
    {
     "name": "stdout",
     "output_type": "stream",
     "text": [
      "_________________________________________________________________\n",
      "Layer (type)                 Output Shape              Param #   \n",
      "=================================================================\n",
      "flatten_6 (Flatten)          (None, 784)               0         \n",
      "_________________________________________________________________\n",
      "dense_13 (Dense)             (None, 200)               157000    \n",
      "_________________________________________________________________\n",
      "activation_5 (Activation)    (None, 200)               0         \n",
      "_________________________________________________________________\n",
      "dense_14 (Dense)             (None, 300)               60300     \n",
      "_________________________________________________________________\n",
      "activation_6 (Activation)    (None, 300)               0         \n",
      "_________________________________________________________________\n",
      "dense_15 (Dense)             (None, 10)                3010      \n",
      "=================================================================\n",
      "Total params: 220,310\n",
      "Trainable params: 220,310\n",
      "Non-trainable params: 0\n",
      "_________________________________________________________________\n"
     ]
    }
   ],
   "source": [
    "import keras\n",
    "from keras.models import Sequential\n",
    "import keras.layers as ll\n",
    "\n",
    "model = Sequential(name=\"digit\")\n",
    "\n",
    "model.add(ll.InputLayer([28, 28]))\n",
    "\n",
    "model.add(ll.Flatten())\n",
    "\n",
    "# network body\n",
    "model.add(ll.Dense(200))\n",
    "model.add(ll.Activation('relu'))\n",
    "\n",
    "model.add(ll.Dense(300))\n",
    "model.add(ll.Activation('relu'))\n",
    "\n",
    "# output layer: 10 neurons for each class with softmax\n",
    "model.add(ll.Dense(10, activation='softmax'))\n",
    "\n",
    "# categorical_crossentropy is your good old crossentropy but applied for one-hot-encoded vectors\n",
    "model.compile(\"adam\", \"categorical_crossentropy\", metrics=[\"accuracy\"])\n",
    "\n",
    "model.summary()"
   ]
  },
  {
   "cell_type": "code",
   "execution_count": 29,
   "metadata": {
    "scrolled": true
   },
   "outputs": [
    {
     "name": "stdout",
     "output_type": "stream",
     "text": [
      "Train on 50000 samples, validate on 10000 samples\n",
      "Epoch 1/200\n",
      "50000/50000 [==============================] - 1s 21us/step - loss: 0.4920 - acc: 0.8674 - val_loss: 0.1977 - val_acc: 0.9463\n",
      "Epoch 2/200\n",
      "50000/50000 [==============================] - 1s 14us/step - loss: 0.1741 - acc: 0.9494 - val_loss: 0.1325 - val_acc: 0.9634\n",
      "Epoch 3/200\n",
      "50000/50000 [==============================] - 1s 14us/step - loss: 0.1212 - acc: 0.9646 - val_loss: 0.1133 - val_acc: 0.9667\n",
      "Epoch 4/200\n",
      "50000/50000 [==============================] - 1s 14us/step - loss: 0.0904 - acc: 0.9731 - val_loss: 0.0978 - val_acc: 0.9715\n",
      "Epoch 5/200\n",
      "50000/50000 [==============================] - 1s 14us/step - loss: 0.0688 - acc: 0.9798 - val_loss: 0.0947 - val_acc: 0.9714\n",
      "Epoch 6/200\n",
      "50000/50000 [==============================] - 1s 14us/step - loss: 0.0555 - acc: 0.9842 - val_loss: 0.0842 - val_acc: 0.9754\n",
      "Epoch 7/200\n",
      "50000/50000 [==============================] - 1s 15us/step - loss: 0.0439 - acc: 0.9876 - val_loss: 0.0814 - val_acc: 0.9748\n",
      "Epoch 8/200\n",
      "50000/50000 [==============================] - 1s 14us/step - loss: 0.0354 - acc: 0.9899 - val_loss: 0.0824 - val_acc: 0.9756\n",
      "Epoch 9/200\n",
      "50000/50000 [==============================] - 1s 15us/step - loss: 0.0285 - acc: 0.9921 - val_loss: 0.0766 - val_acc: 0.9776\n",
      "Epoch 10/200\n",
      "50000/50000 [==============================] - 1s 14us/step - loss: 0.0236 - acc: 0.9940 - val_loss: 0.0790 - val_acc: 0.9777\n",
      "Epoch 11/200\n",
      "50000/50000 [==============================] - 1s 14us/step - loss: 0.0184 - acc: 0.9953 - val_loss: 0.0803 - val_acc: 0.9783\n",
      "Epoch 12/200\n",
      "50000/50000 [==============================] - 1s 13us/step - loss: 0.0146 - acc: 0.9966 - val_loss: 0.0834 - val_acc: 0.9760\n",
      "Epoch 13/200\n",
      "50000/50000 [==============================] - 1s 14us/step - loss: 0.0128 - acc: 0.9972 - val_loss: 0.0809 - val_acc: 0.9795\n",
      "Epoch 14/200\n",
      "50000/50000 [==============================] - 1s 13us/step - loss: 0.0116 - acc: 0.9969 - val_loss: 0.0796 - val_acc: 0.9799\n",
      "Epoch 15/200\n",
      "50000/50000 [==============================] - 1s 13us/step - loss: 0.0080 - acc: 0.9985 - val_loss: 0.0832 - val_acc: 0.9786\n",
      "Epoch 16/200\n",
      "50000/50000 [==============================] - 1s 14us/step - loss: 0.0058 - acc: 0.9991 - val_loss: 0.0830 - val_acc: 0.9798\n",
      "Epoch 17/200\n",
      "50000/50000 [==============================] - 1s 14us/step - loss: 0.0044 - acc: 0.9996 - val_loss: 0.0845 - val_acc: 0.9793\n",
      "Epoch 18/200\n",
      "50000/50000 [==============================] - 1s 14us/step - loss: 0.0040 - acc: 0.9996 - val_loss: 0.0838 - val_acc: 0.9793\n",
      "Epoch 19/200\n",
      "50000/50000 [==============================] - 1s 14us/step - loss: 0.0028 - acc: 0.9997 - val_loss: 0.0831 - val_acc: 0.9809\n",
      "Epoch 20/200\n",
      "50000/50000 [==============================] - 1s 14us/step - loss: 0.0019 - acc: 0.9999 - val_loss: 0.0850 - val_acc: 0.9805\n",
      "Epoch 21/200\n",
      "50000/50000 [==============================] - 1s 14us/step - loss: 0.0016 - acc: 0.9999 - val_loss: 0.0841 - val_acc: 0.9806\n",
      "Epoch 22/200\n",
      "50000/50000 [==============================] - 1s 14us/step - loss: 0.0013 - acc: 1.0000 - val_loss: 0.0869 - val_acc: 0.9804\n",
      "Epoch 23/200\n",
      "50000/50000 [==============================] - 1s 14us/step - loss: 9.9006e-04 - acc: 1.0000 - val_loss: 0.0886 - val_acc: 0.9805\n",
      "Epoch 24/200\n",
      "50000/50000 [==============================] - 1s 14us/step - loss: 0.0010 - acc: 1.0000 - val_loss: 0.0897 - val_acc: 0.9806\n",
      "Epoch 25/200\n",
      "50000/50000 [==============================] - 1s 14us/step - loss: 8.3466e-04 - acc: 1.0000 - val_loss: 0.0887 - val_acc: 0.9809\n",
      "Epoch 26/200\n",
      "50000/50000 [==============================] - 1s 14us/step - loss: 6.8138e-04 - acc: 1.0000 - val_loss: 0.0885 - val_acc: 0.9813\n",
      "Epoch 27/200\n",
      "50000/50000 [==============================] - 1s 14us/step - loss: 5.9362e-04 - acc: 1.0000 - val_loss: 0.0902 - val_acc: 0.9811\n",
      "Epoch 28/200\n",
      "50000/50000 [==============================] - 1s 14us/step - loss: 5.3555e-04 - acc: 1.0000 - val_loss: 0.0902 - val_acc: 0.9817\n",
      "Epoch 29/200\n",
      "50000/50000 [==============================] - 1s 14us/step - loss: 4.7291e-04 - acc: 1.0000 - val_loss: 0.0927 - val_acc: 0.9808\n",
      "Epoch 30/200\n",
      "50000/50000 [==============================] - 1s 15us/step - loss: 4.3193e-04 - acc: 1.0000 - val_loss: 0.0937 - val_acc: 0.9807\n",
      "Epoch 31/200\n",
      "50000/50000 [==============================] - 1s 16us/step - loss: 4.0163e-04 - acc: 1.0000 - val_loss: 0.0950 - val_acc: 0.9802\n",
      "Epoch 32/200\n",
      "50000/50000 [==============================] - 1s 15us/step - loss: 3.6605e-04 - acc: 1.0000 - val_loss: 0.0943 - val_acc: 0.9808\n",
      "Epoch 33/200\n",
      "50000/50000 [==============================] - 1s 14us/step - loss: 3.2132e-04 - acc: 1.0000 - val_loss: 0.0962 - val_acc: 0.9807\n",
      "Epoch 34/200\n",
      "50000/50000 [==============================] - 1s 14us/step - loss: 2.9360e-04 - acc: 1.0000 - val_loss: 0.0965 - val_acc: 0.9810\n",
      "Epoch 35/200\n",
      "50000/50000 [==============================] - 1s 14us/step - loss: 2.6860e-04 - acc: 1.0000 - val_loss: 0.0958 - val_acc: 0.9811\n",
      "Epoch 36/200\n",
      "50000/50000 [==============================] - 1s 14us/step - loss: 2.4767e-04 - acc: 1.0000 - val_loss: 0.0975 - val_acc: 0.9810\n",
      "Epoch 37/200\n",
      "50000/50000 [==============================] - 1s 14us/step - loss: 2.2484e-04 - acc: 1.0000 - val_loss: 0.0979 - val_acc: 0.9815\n",
      "Epoch 38/200\n",
      "50000/50000 [==============================] - 1s 14us/step - loss: 2.0548e-04 - acc: 1.0000 - val_loss: 0.0981 - val_acc: 0.9808\n",
      "Epoch 39/200\n",
      "50000/50000 [==============================] - 1s 14us/step - loss: 1.8798e-04 - acc: 1.0000 - val_loss: 0.0991 - val_acc: 0.9807\n",
      "Epoch 40/200\n",
      "50000/50000 [==============================] - 1s 14us/step - loss: 1.7301e-04 - acc: 1.0000 - val_loss: 0.0999 - val_acc: 0.9805\n",
      "Epoch 41/200\n",
      "50000/50000 [==============================] - 1s 14us/step - loss: 1.5995e-04 - acc: 1.0000 - val_loss: 0.1006 - val_acc: 0.9812\n",
      "Epoch 42/200\n",
      "50000/50000 [==============================] - 1s 14us/step - loss: 1.5159e-04 - acc: 1.0000 - val_loss: 0.1007 - val_acc: 0.9807\n",
      "Epoch 43/200\n",
      "50000/50000 [==============================] - 1s 14us/step - loss: 1.3782e-04 - acc: 1.0000 - val_loss: 0.1008 - val_acc: 0.9810\n",
      "Epoch 44/200\n",
      "50000/50000 [==============================] - 1s 14us/step - loss: 1.3073e-04 - acc: 1.0000 - val_loss: 0.1024 - val_acc: 0.9808\n",
      "Epoch 45/200\n",
      "50000/50000 [==============================] - 1s 14us/step - loss: 1.1806e-04 - acc: 1.0000 - val_loss: 0.1019 - val_acc: 0.9808\n",
      "Epoch 46/200\n",
      "50000/50000 [==============================] - 1s 14us/step - loss: 1.0962e-04 - acc: 1.0000 - val_loss: 0.1037 - val_acc: 0.9806\n",
      "Epoch 47/200\n",
      "50000/50000 [==============================] - 1s 14us/step - loss: 1.0085e-04 - acc: 1.0000 - val_loss: 0.1029 - val_acc: 0.9809\n",
      "Epoch 48/200\n",
      "50000/50000 [==============================] - 1s 14us/step - loss: 9.4715e-05 - acc: 1.0000 - val_loss: 0.1043 - val_acc: 0.9810\n",
      "Epoch 49/200\n",
      "50000/50000 [==============================] - 1s 14us/step - loss: 8.5131e-05 - acc: 1.0000 - val_loss: 0.1051 - val_acc: 0.9809\n",
      "Epoch 50/200\n",
      "50000/50000 [==============================] - 1s 14us/step - loss: 7.9720e-05 - acc: 1.0000 - val_loss: 0.1048 - val_acc: 0.9807\n",
      "Epoch 51/200\n",
      "50000/50000 [==============================] - 1s 14us/step - loss: 7.5593e-05 - acc: 1.0000 - val_loss: 0.1069 - val_acc: 0.9803\n",
      "Epoch 52/200\n",
      "50000/50000 [==============================] - 1s 14us/step - loss: 6.9565e-05 - acc: 1.0000 - val_loss: 0.1061 - val_acc: 0.9806\n",
      "Epoch 53/200\n",
      "50000/50000 [==============================] - 1s 14us/step - loss: 6.4691e-05 - acc: 1.0000 - val_loss: 0.1069 - val_acc: 0.9803\n",
      "Epoch 54/200\n",
      "50000/50000 [==============================] - 1s 14us/step - loss: 5.9959e-05 - acc: 1.0000 - val_loss: 0.1065 - val_acc: 0.9805\n",
      "Epoch 55/200\n",
      "50000/50000 [==============================] - 1s 14us/step - loss: 5.6149e-05 - acc: 1.0000 - val_loss: 0.1070 - val_acc: 0.9812\n",
      "Epoch 56/200\n",
      "50000/50000 [==============================] - 1s 14us/step - loss: 5.2759e-05 - acc: 1.0000 - val_loss: 0.1085 - val_acc: 0.9807\n",
      "Epoch 57/200\n",
      "50000/50000 [==============================] - 1s 14us/step - loss: 4.9013e-05 - acc: 1.0000 - val_loss: 0.1085 - val_acc: 0.9809\n",
      "Epoch 58/200\n"
     ]
    },
    {
     "name": "stdout",
     "output_type": "stream",
     "text": [
      "50000/50000 [==============================] - 1s 14us/step - loss: 4.5770e-05 - acc: 1.0000 - val_loss: 0.1084 - val_acc: 0.9808\n",
      "Epoch 59/200\n",
      "50000/50000 [==============================] - 1s 14us/step - loss: 4.3153e-05 - acc: 1.0000 - val_loss: 0.1105 - val_acc: 0.9804\n",
      "Epoch 60/200\n",
      "50000/50000 [==============================] - 1s 14us/step - loss: 4.0432e-05 - acc: 1.0000 - val_loss: 0.1105 - val_acc: 0.9804\n",
      "Epoch 61/200\n",
      "50000/50000 [==============================] - 1s 14us/step - loss: 3.7954e-05 - acc: 1.0000 - val_loss: 0.1105 - val_acc: 0.9803\n",
      "Epoch 62/200\n",
      "50000/50000 [==============================] - 1s 14us/step - loss: 3.5020e-05 - acc: 1.0000 - val_loss: 0.1107 - val_acc: 0.9807\n",
      "Epoch 63/200\n",
      "50000/50000 [==============================] - 1s 14us/step - loss: 3.3099e-05 - acc: 1.0000 - val_loss: 0.1117 - val_acc: 0.9806\n",
      "Epoch 64/200\n",
      "50000/50000 [==============================] - 1s 14us/step - loss: 3.0658e-05 - acc: 1.0000 - val_loss: 0.1116 - val_acc: 0.9812\n",
      "Epoch 65/200\n",
      "50000/50000 [==============================] - 1s 14us/step - loss: 2.8573e-05 - acc: 1.0000 - val_loss: 0.1117 - val_acc: 0.9804\n",
      "Epoch 66/200\n",
      "50000/50000 [==============================] - 1s 14us/step - loss: 2.6572e-05 - acc: 1.0000 - val_loss: 0.1126 - val_acc: 0.9804\n",
      "Epoch 67/200\n",
      "50000/50000 [==============================] - 1s 14us/step - loss: 2.5416e-05 - acc: 1.0000 - val_loss: 0.1133 - val_acc: 0.9804\n",
      "Epoch 68/200\n",
      "50000/50000 [==============================] - 1s 14us/step - loss: 2.3753e-05 - acc: 1.0000 - val_loss: 0.1143 - val_acc: 0.9804\n",
      "Epoch 69/200\n",
      "50000/50000 [==============================] - 1s 14us/step - loss: 2.2249e-05 - acc: 1.0000 - val_loss: 0.1148 - val_acc: 0.9806\n",
      "Epoch 70/200\n",
      "50000/50000 [==============================] - 1s 14us/step - loss: 2.0542e-05 - acc: 1.0000 - val_loss: 0.1158 - val_acc: 0.9802\n",
      "Epoch 71/200\n",
      "50000/50000 [==============================] - 1s 14us/step - loss: 1.9385e-05 - acc: 1.0000 - val_loss: 0.1155 - val_acc: 0.9808\n",
      "Epoch 72/200\n",
      "50000/50000 [==============================] - 1s 14us/step - loss: 1.8042e-05 - acc: 1.0000 - val_loss: 0.1159 - val_acc: 0.9806\n",
      "Epoch 73/200\n",
      "50000/50000 [==============================] - 1s 14us/step - loss: 1.7205e-05 - acc: 1.0000 - val_loss: 0.1170 - val_acc: 0.9807\n",
      "Epoch 74/200\n",
      "50000/50000 [==============================] - 1s 14us/step - loss: 1.6015e-05 - acc: 1.0000 - val_loss: 0.1169 - val_acc: 0.9805\n",
      "Epoch 75/200\n",
      "50000/50000 [==============================] - 1s 14us/step - loss: 1.4935e-05 - acc: 1.0000 - val_loss: 0.1169 - val_acc: 0.9807\n",
      "Epoch 76/200\n",
      "50000/50000 [==============================] - 1s 14us/step - loss: 1.4252e-05 - acc: 1.0000 - val_loss: 0.1178 - val_acc: 0.9808\n",
      "Epoch 77/200\n",
      "50000/50000 [==============================] - 1s 14us/step - loss: 1.3310e-05 - acc: 1.0000 - val_loss: 0.1185 - val_acc: 0.9804\n",
      "Epoch 78/200\n",
      "50000/50000 [==============================] - 1s 14us/step - loss: 1.2654e-05 - acc: 1.0000 - val_loss: 0.1188 - val_acc: 0.9804\n",
      "Epoch 79/200\n",
      "50000/50000 [==============================] - 1s 14us/step - loss: 1.1820e-05 - acc: 1.0000 - val_loss: 0.1186 - val_acc: 0.9806\n",
      "Epoch 80/200\n",
      "50000/50000 [==============================] - 1s 14us/step - loss: 1.0973e-05 - acc: 1.0000 - val_loss: 0.1200 - val_acc: 0.9804\n",
      "Epoch 81/200\n",
      "50000/50000 [==============================] - 1s 14us/step - loss: 1.0363e-05 - acc: 1.0000 - val_loss: 0.1202 - val_acc: 0.9807\n",
      "Epoch 82/200\n",
      "50000/50000 [==============================] - 1s 14us/step - loss: 9.8712e-06 - acc: 1.0000 - val_loss: 0.1204 - val_acc: 0.9806\n",
      "Epoch 83/200\n",
      "50000/50000 [==============================] - 1s 14us/step - loss: 9.1860e-06 - acc: 1.0000 - val_loss: 0.1208 - val_acc: 0.9804\n",
      "Epoch 84/200\n",
      "50000/50000 [==============================] - 1s 14us/step - loss: 8.6619e-06 - acc: 1.0000 - val_loss: 0.1207 - val_acc: 0.9804\n",
      "Epoch 85/200\n",
      "50000/50000 [==============================] - 1s 14us/step - loss: 8.1127e-06 - acc: 1.0000 - val_loss: 0.1220 - val_acc: 0.9805\n",
      "Epoch 86/200\n",
      "50000/50000 [==============================] - 1s 14us/step - loss: 7.7332e-06 - acc: 1.0000 - val_loss: 0.1227 - val_acc: 0.9808\n",
      "Epoch 87/200\n",
      "50000/50000 [==============================] - 1s 14us/step - loss: 7.2573e-06 - acc: 1.0000 - val_loss: 0.1231 - val_acc: 0.9806\n",
      "Epoch 88/200\n",
      "50000/50000 [==============================] - 1s 14us/step - loss: 6.7880e-06 - acc: 1.0000 - val_loss: 0.1239 - val_acc: 0.9807\n",
      "Epoch 89/200\n",
      "50000/50000 [==============================] - 1s 14us/step - loss: 6.4478e-06 - acc: 1.0000 - val_loss: 0.1234 - val_acc: 0.9810\n",
      "Epoch 90/200\n",
      "50000/50000 [==============================] - 1s 14us/step - loss: 6.0535e-06 - acc: 1.0000 - val_loss: 0.1235 - val_acc: 0.9805\n",
      "Epoch 91/200\n",
      "50000/50000 [==============================] - 1s 14us/step - loss: 5.6561e-06 - acc: 1.0000 - val_loss: 0.1241 - val_acc: 0.9804\n",
      "Epoch 92/200\n",
      "50000/50000 [==============================] - 1s 14us/step - loss: 5.3644e-06 - acc: 1.0000 - val_loss: 0.1254 - val_acc: 0.9801\n",
      "Epoch 93/200\n",
      "50000/50000 [==============================] - 1s 14us/step - loss: 5.1416e-06 - acc: 1.0000 - val_loss: 0.1248 - val_acc: 0.9809\n",
      "Epoch 94/200\n",
      "50000/50000 [==============================] - 1s 14us/step - loss: 4.7865e-06 - acc: 1.0000 - val_loss: 0.1258 - val_acc: 0.9804\n",
      "Epoch 95/200\n",
      "50000/50000 [==============================] - 1s 14us/step - loss: 4.5298e-06 - acc: 1.0000 - val_loss: 0.1261 - val_acc: 0.9804\n",
      "Epoch 96/200\n",
      "50000/50000 [==============================] - 1s 14us/step - loss: 4.2916e-06 - acc: 1.0000 - val_loss: 0.1275 - val_acc: 0.9807\n",
      "Epoch 97/200\n",
      "50000/50000 [==============================] - 1s 14us/step - loss: 4.0296e-06 - acc: 1.0000 - val_loss: 0.1267 - val_acc: 0.9802\n",
      "Epoch 98/200\n",
      "50000/50000 [==============================] - 1s 14us/step - loss: 3.7714e-06 - acc: 1.0000 - val_loss: 0.1274 - val_acc: 0.9801\n",
      "Epoch 99/200\n",
      "50000/50000 [==============================] - 1s 14us/step - loss: 3.5591e-06 - acc: 1.0000 - val_loss: 0.1281 - val_acc: 0.9802\n",
      "Epoch 100/200\n",
      "50000/50000 [==============================] - 1s 14us/step - loss: 3.3468e-06 - acc: 1.0000 - val_loss: 0.1283 - val_acc: 0.9805\n",
      "Epoch 101/200\n",
      "50000/50000 [==============================] - 1s 14us/step - loss: 3.2125e-06 - acc: 1.0000 - val_loss: 0.1283 - val_acc: 0.9805\n",
      "Epoch 102/200\n",
      "50000/50000 [==============================] - 1s 14us/step - loss: 3.0232e-06 - acc: 1.0000 - val_loss: 0.1279 - val_acc: 0.9809\n",
      "Epoch 103/200\n",
      "50000/50000 [==============================] - 1s 14us/step - loss: 2.8604e-06 - acc: 1.0000 - val_loss: 0.1292 - val_acc: 0.9804\n",
      "Epoch 104/200\n",
      "50000/50000 [==============================] - 1s 14us/step - loss: 2.6750e-06 - acc: 1.0000 - val_loss: 0.1295 - val_acc: 0.9804\n",
      "Epoch 105/200\n",
      "50000/50000 [==============================] - 1s 14us/step - loss: 2.5355e-06 - acc: 1.0000 - val_loss: 0.1292 - val_acc: 0.9805\n",
      "Epoch 106/200\n",
      "50000/50000 [==============================] - 1s 14us/step - loss: 2.4297e-06 - acc: 1.0000 - val_loss: 0.1302 - val_acc: 0.9805\n",
      "Epoch 107/200\n",
      "50000/50000 [==============================] - 1s 14us/step - loss: 2.2606e-06 - acc: 1.0000 - val_loss: 0.1308 - val_acc: 0.9804\n",
      "Epoch 108/200\n",
      "50000/50000 [==============================] - 1s 14us/step - loss: 2.1586e-06 - acc: 1.0000 - val_loss: 0.1314 - val_acc: 0.9807\n",
      "Epoch 109/200\n",
      "50000/50000 [==============================] - 1s 14us/step - loss: 2.0525e-06 - acc: 1.0000 - val_loss: 0.1312 - val_acc: 0.9805\n",
      "Epoch 110/200\n",
      "50000/50000 [==============================] - 1s 14us/step - loss: 1.9153e-06 - acc: 1.0000 - val_loss: 0.1318 - val_acc: 0.9808\n",
      "Epoch 111/200\n",
      "50000/50000 [==============================] - 1s 14us/step - loss: 1.8360e-06 - acc: 1.0000 - val_loss: 0.1325 - val_acc: 0.9804\n",
      "Epoch 112/200\n",
      "50000/50000 [==============================] - 1s 14us/step - loss: 1.7323e-06 - acc: 1.0000 - val_loss: 0.1321 - val_acc: 0.9805\n",
      "Epoch 113/200\n",
      "50000/50000 [==============================] - 1s 14us/step - loss: 1.6404e-06 - acc: 1.0000 - val_loss: 0.1333 - val_acc: 0.9802\n",
      "Epoch 114/200\n",
      "50000/50000 [==============================] - 1s 14us/step - loss: 1.5549e-06 - acc: 1.0000 - val_loss: 0.1334 - val_acc: 0.9804\n",
      "Epoch 115/200\n"
     ]
    },
    {
     "name": "stdout",
     "output_type": "stream",
     "text": [
      "50000/50000 [==============================] - 1s 14us/step - loss: 1.4687e-06 - acc: 1.0000 - val_loss: 0.1339 - val_acc: 0.9801\n",
      "Epoch 116/200\n",
      "50000/50000 [==============================] - 1s 14us/step - loss: 1.4001e-06 - acc: 1.0000 - val_loss: 0.1349 - val_acc: 0.9803\n",
      "Epoch 117/200\n",
      "50000/50000 [==============================] - 1s 14us/step - loss: 1.3229e-06 - acc: 1.0000 - val_loss: 0.1347 - val_acc: 0.9804\n",
      "Epoch 118/200\n",
      "50000/50000 [==============================] - 1s 14us/step - loss: 1.2585e-06 - acc: 1.0000 - val_loss: 0.1354 - val_acc: 0.9805\n",
      "Epoch 119/200\n",
      "50000/50000 [==============================] - 1s 14us/step - loss: 1.2004e-06 - acc: 1.0000 - val_loss: 0.1357 - val_acc: 0.9806\n",
      "Epoch 120/200\n",
      "50000/50000 [==============================] - 1s 14us/step - loss: 1.1421e-06 - acc: 1.0000 - val_loss: 0.1358 - val_acc: 0.9806\n",
      "Epoch 121/200\n",
      "50000/50000 [==============================] - 1s 14us/step - loss: 1.0794e-06 - acc: 1.0000 - val_loss: 0.1362 - val_acc: 0.9804\n",
      "Epoch 122/200\n",
      "50000/50000 [==============================] - 1s 14us/step - loss: 1.0201e-06 - acc: 1.0000 - val_loss: 0.1365 - val_acc: 0.9804\n",
      "Epoch 123/200\n",
      "50000/50000 [==============================] - 1s 14us/step - loss: 9.7622e-07 - acc: 1.0000 - val_loss: 0.1370 - val_acc: 0.9804\n",
      "Epoch 124/200\n",
      "50000/50000 [==============================] - 1s 14us/step - loss: 9.3414e-07 - acc: 1.0000 - val_loss: 0.1368 - val_acc: 0.9808\n",
      "Epoch 125/200\n",
      "50000/50000 [==============================] - 1s 14us/step - loss: 8.8114e-07 - acc: 1.0000 - val_loss: 0.1379 - val_acc: 0.9804\n",
      "Epoch 126/200\n",
      "50000/50000 [==============================] - 1s 14us/step - loss: 8.5107e-07 - acc: 1.0000 - val_loss: 0.1376 - val_acc: 0.9804\n",
      "Epoch 127/200\n",
      "50000/50000 [==============================] - 1s 14us/step - loss: 7.9718e-07 - acc: 1.0000 - val_loss: 0.1388 - val_acc: 0.9804\n",
      "Epoch 128/200\n",
      "50000/50000 [==============================] - 1s 15us/step - loss: 7.6223e-07 - acc: 1.0000 - val_loss: 0.1389 - val_acc: 0.9806\n",
      "Epoch 129/200\n",
      "50000/50000 [==============================] - 1s 14us/step - loss: 7.2768e-07 - acc: 1.0000 - val_loss: 0.1392 - val_acc: 0.9806\n",
      "Epoch 130/200\n",
      "50000/50000 [==============================] - 1s 14us/step - loss: 6.9745e-07 - acc: 1.0000 - val_loss: 0.1394 - val_acc: 0.9805\n",
      "Epoch 131/200\n",
      "50000/50000 [==============================] - 1s 14us/step - loss: 6.6239e-07 - acc: 1.0000 - val_loss: 0.1401 - val_acc: 0.9805\n",
      "Epoch 132/200\n",
      "50000/50000 [==============================] - 1s 14us/step - loss: 6.4105e-07 - acc: 1.0000 - val_loss: 0.1400 - val_acc: 0.9807\n",
      "Epoch 133/200\n",
      "50000/50000 [==============================] - 1s 14us/step - loss: 6.1218e-07 - acc: 1.0000 - val_loss: 0.1401 - val_acc: 0.9806\n",
      "Epoch 134/200\n",
      "50000/50000 [==============================] - 1s 14us/step - loss: 5.7921e-07 - acc: 1.0000 - val_loss: 0.1405 - val_acc: 0.9808\n",
      "Epoch 135/200\n",
      "50000/50000 [==============================] - 1s 14us/step - loss: 5.5540e-07 - acc: 1.0000 - val_loss: 0.1407 - val_acc: 0.9807\n",
      "Epoch 136/200\n",
      "50000/50000 [==============================] - 1s 14us/step - loss: 5.2815e-07 - acc: 1.0000 - val_loss: 0.1416 - val_acc: 0.9805\n",
      "Epoch 137/200\n",
      "50000/50000 [==============================] - 1s 14us/step - loss: 5.0882e-07 - acc: 1.0000 - val_loss: 0.1421 - val_acc: 0.9806\n",
      "Epoch 138/200\n",
      "50000/50000 [==============================] - 1s 14us/step - loss: 4.8845e-07 - acc: 1.0000 - val_loss: 0.1420 - val_acc: 0.9807\n",
      "Epoch 139/200\n",
      "50000/50000 [==============================] - 1s 14us/step - loss: 4.6487e-07 - acc: 1.0000 - val_loss: 0.1422 - val_acc: 0.9803\n",
      "Epoch 140/200\n",
      "50000/50000 [==============================] - 1s 14us/step - loss: 4.5231e-07 - acc: 1.0000 - val_loss: 0.1423 - val_acc: 0.9808\n",
      "Epoch 141/200\n",
      "50000/50000 [==============================] - 1s 14us/step - loss: 4.3527e-07 - acc: 1.0000 - val_loss: 0.1429 - val_acc: 0.9806\n",
      "Epoch 142/200\n",
      "50000/50000 [==============================] - 1s 14us/step - loss: 4.1531e-07 - acc: 1.0000 - val_loss: 0.1432 - val_acc: 0.9806\n",
      "Epoch 143/200\n",
      "50000/50000 [==============================] - 1s 14us/step - loss: 4.0358e-07 - acc: 1.0000 - val_loss: 0.1436 - val_acc: 0.9803\n",
      "Epoch 144/200\n",
      "50000/50000 [==============================] - 1s 14us/step - loss: 3.8363e-07 - acc: 1.0000 - val_loss: 0.1443 - val_acc: 0.9806\n",
      "Epoch 145/200\n",
      "50000/50000 [==============================] - 1s 14us/step - loss: 3.7029e-07 - acc: 1.0000 - val_loss: 0.1447 - val_acc: 0.9806\n",
      "Epoch 146/200\n",
      "50000/50000 [==============================] - 1s 14us/step - loss: 3.5632e-07 - acc: 1.0000 - val_loss: 0.1446 - val_acc: 0.9805\n",
      "Epoch 147/200\n",
      "50000/50000 [==============================] - 1s 14us/step - loss: 3.4428e-07 - acc: 1.0000 - val_loss: 0.1449 - val_acc: 0.9804\n",
      "Epoch 148/200\n",
      "50000/50000 [==============================] - 1s 14us/step - loss: 3.3209e-07 - acc: 1.0000 - val_loss: 0.1449 - val_acc: 0.9804\n",
      "Epoch 149/200\n",
      "50000/50000 [==============================] - 1s 14us/step - loss: 3.2222e-07 - acc: 1.0000 - val_loss: 0.1454 - val_acc: 0.9806\n",
      "Epoch 150/200\n",
      "50000/50000 [==============================] - 1s 14us/step - loss: 3.1011e-07 - acc: 1.0000 - val_loss: 0.1458 - val_acc: 0.9806\n",
      "Epoch 151/200\n",
      "50000/50000 [==============================] - 1s 14us/step - loss: 3.0290e-07 - acc: 1.0000 - val_loss: 0.1461 - val_acc: 0.9804\n",
      "Epoch 152/200\n",
      "50000/50000 [==============================] - 1s 14us/step - loss: 2.9028e-07 - acc: 1.0000 - val_loss: 0.1464 - val_acc: 0.9804\n",
      "Epoch 153/200\n",
      "50000/50000 [==============================] - 1s 14us/step - loss: 2.8274e-07 - acc: 1.0000 - val_loss: 0.1470 - val_acc: 0.9806\n",
      "Epoch 154/200\n",
      "50000/50000 [==============================] - 1s 14us/step - loss: 2.7448e-07 - acc: 1.0000 - val_loss: 0.1469 - val_acc: 0.9806\n",
      "Epoch 155/200\n",
      "50000/50000 [==============================] - 1s 14us/step - loss: 2.6674e-07 - acc: 1.0000 - val_loss: 0.1470 - val_acc: 0.9806\n",
      "Epoch 156/200\n",
      "50000/50000 [==============================] - 1s 14us/step - loss: 2.5667e-07 - acc: 1.0000 - val_loss: 0.1474 - val_acc: 0.9806\n",
      "Epoch 157/200\n",
      "50000/50000 [==============================] - 1s 14us/step - loss: 2.5035e-07 - acc: 1.0000 - val_loss: 0.1482 - val_acc: 0.9807\n",
      "Epoch 158/200\n",
      "50000/50000 [==============================] - 1s 14us/step - loss: 2.4421e-07 - acc: 1.0000 - val_loss: 0.1483 - val_acc: 0.9806\n",
      "Epoch 159/200\n",
      "50000/50000 [==============================] - 1s 14us/step - loss: 2.3777e-07 - acc: 1.0000 - val_loss: 0.1487 - val_acc: 0.9804\n",
      "Epoch 160/200\n",
      "50000/50000 [==============================] - 1s 14us/step - loss: 2.3084e-07 - acc: 1.0000 - val_loss: 0.1487 - val_acc: 0.9808\n",
      "Epoch 161/200\n",
      "50000/50000 [==============================] - 1s 14us/step - loss: 2.2531e-07 - acc: 1.0000 - val_loss: 0.1492 - val_acc: 0.9807\n",
      "Epoch 162/200\n",
      "50000/50000 [==============================] - 1s 14us/step - loss: 2.2030e-07 - acc: 1.0000 - val_loss: 0.1486 - val_acc: 0.9806\n",
      "Epoch 163/200\n",
      "50000/50000 [==============================] - 1s 14us/step - loss: 2.1591e-07 - acc: 1.0000 - val_loss: 0.1497 - val_acc: 0.9807\n",
      "Epoch 164/200\n",
      "50000/50000 [==============================] - 1s 14us/step - loss: 2.0974e-07 - acc: 1.0000 - val_loss: 0.1500 - val_acc: 0.9807\n",
      "Epoch 165/200\n",
      "50000/50000 [==============================] - 1s 14us/step - loss: 2.0559e-07 - acc: 1.0000 - val_loss: 0.1493 - val_acc: 0.9809\n",
      "Epoch 166/200\n",
      "50000/50000 [==============================] - 1s 14us/step - loss: 2.0098e-07 - acc: 1.0000 - val_loss: 0.1499 - val_acc: 0.9807\n",
      "Epoch 167/200\n",
      "50000/50000 [==============================] - 1s 14us/step - loss: 1.9693e-07 - acc: 1.0000 - val_loss: 0.1506 - val_acc: 0.9808\n",
      "Epoch 168/200\n",
      "50000/50000 [==============================] - 1s 14us/step - loss: 1.9244e-07 - acc: 1.0000 - val_loss: 0.1503 - val_acc: 0.9810\n",
      "Epoch 169/200\n",
      "50000/50000 [==============================] - 1s 14us/step - loss: 1.8991e-07 - acc: 1.0000 - val_loss: 0.1507 - val_acc: 0.9810\n",
      "Epoch 170/200\n",
      "50000/50000 [==============================] - 1s 14us/step - loss: 1.8576e-07 - acc: 1.0000 - val_loss: 0.1515 - val_acc: 0.9809\n",
      "Epoch 171/200\n",
      "50000/50000 [==============================] - 1s 14us/step - loss: 1.8220e-07 - acc: 1.0000 - val_loss: 0.1506 - val_acc: 0.9810\n"
     ]
    },
    {
     "name": "stdout",
     "output_type": "stream",
     "text": [
      "Epoch 172/200\n",
      "50000/50000 [==============================] - 1s 14us/step - loss: 1.7911e-07 - acc: 1.0000 - val_loss: 0.1514 - val_acc: 0.9811\n",
      "Epoch 173/200\n",
      "50000/50000 [==============================] - 1s 14us/step - loss: 1.7597e-07 - acc: 1.0000 - val_loss: 0.1520 - val_acc: 0.9809\n",
      "Epoch 174/200\n",
      "50000/50000 [==============================] - 1s 14us/step - loss: 1.7282e-07 - acc: 1.0000 - val_loss: 0.1523 - val_acc: 0.9807\n",
      "Epoch 175/200\n",
      "50000/50000 [==============================] - 1s 14us/step - loss: 1.7099e-07 - acc: 1.0000 - val_loss: 0.1522 - val_acc: 0.9809\n",
      "Epoch 176/200\n",
      "50000/50000 [==============================] - 1s 14us/step - loss: 1.6801e-07 - acc: 1.0000 - val_loss: 0.1527 - val_acc: 0.9809\n",
      "Epoch 177/200\n",
      "50000/50000 [==============================] - 1s 14us/step - loss: 1.6517e-07 - acc: 1.0000 - val_loss: 0.1526 - val_acc: 0.9809\n",
      "Epoch 178/200\n",
      "50000/50000 [==============================] - 1s 14us/step - loss: 1.6304e-07 - acc: 1.0000 - val_loss: 0.1530 - val_acc: 0.9808\n",
      "Epoch 179/200\n",
      "50000/50000 [==============================] - 1s 14us/step - loss: 1.6068e-07 - acc: 1.0000 - val_loss: 0.1533 - val_acc: 0.9810\n",
      "Epoch 180/200\n",
      "50000/50000 [==============================] - 1s 14us/step - loss: 1.5872e-07 - acc: 1.0000 - val_loss: 0.1540 - val_acc: 0.9808\n",
      "Epoch 181/200\n",
      "50000/50000 [==============================] - 1s 14us/step - loss: 1.5642e-07 - acc: 1.0000 - val_loss: 0.1539 - val_acc: 0.9810\n",
      "Epoch 182/200\n",
      "50000/50000 [==============================] - 1s 14us/step - loss: 1.5452e-07 - acc: 1.0000 - val_loss: 0.1547 - val_acc: 0.9806\n",
      "Epoch 183/200\n",
      "50000/50000 [==============================] - 1s 14us/step - loss: 1.5303e-07 - acc: 1.0000 - val_loss: 0.1547 - val_acc: 0.9806\n",
      "Epoch 184/200\n",
      "50000/50000 [==============================] - 1s 14us/step - loss: 1.5122e-07 - acc: 1.0000 - val_loss: 0.1547 - val_acc: 0.9807\n",
      "Epoch 185/200\n",
      "50000/50000 [==============================] - 1s 14us/step - loss: 1.4955e-07 - acc: 1.0000 - val_loss: 0.1546 - val_acc: 0.9810\n",
      "Epoch 186/200\n",
      "50000/50000 [==============================] - 1s 14us/step - loss: 1.4779e-07 - acc: 1.0000 - val_loss: 0.1550 - val_acc: 0.9810\n",
      "Epoch 187/200\n",
      "50000/50000 [==============================] - 1s 14us/step - loss: 1.4648e-07 - acc: 1.0000 - val_loss: 0.1552 - val_acc: 0.9806\n",
      "Epoch 188/200\n",
      "50000/50000 [==============================] - 1s 14us/step - loss: 1.4520e-07 - acc: 1.0000 - val_loss: 0.1556 - val_acc: 0.9810\n",
      "Epoch 189/200\n",
      "50000/50000 [==============================] - 1s 14us/step - loss: 1.4392e-07 - acc: 1.0000 - val_loss: 0.1554 - val_acc: 0.9811\n",
      "Epoch 190/200\n",
      "50000/50000 [==============================] - 1s 14us/step - loss: 1.4259e-07 - acc: 1.0000 - val_loss: 0.1556 - val_acc: 0.9812\n",
      "Epoch 191/200\n",
      "50000/50000 [==============================] - 1s 14us/step - loss: 1.4151e-07 - acc: 1.0000 - val_loss: 0.1557 - val_acc: 0.9807\n",
      "Epoch 192/200\n",
      "50000/50000 [==============================] - 1s 14us/step - loss: 1.4036e-07 - acc: 1.0000 - val_loss: 0.1563 - val_acc: 0.9808\n",
      "Epoch 193/200\n",
      "50000/50000 [==============================] - 1s 14us/step - loss: 1.3919e-07 - acc: 1.0000 - val_loss: 0.1563 - val_acc: 0.9809\n",
      "Epoch 194/200\n",
      "50000/50000 [==============================] - 1s 14us/step - loss: 1.3831e-07 - acc: 1.0000 - val_loss: 0.1561 - val_acc: 0.9809\n",
      "Epoch 195/200\n",
      "50000/50000 [==============================] - 1s 14us/step - loss: 1.3747e-07 - acc: 1.0000 - val_loss: 0.1564 - val_acc: 0.9810\n",
      "Epoch 196/200\n",
      "50000/50000 [==============================] - 1s 14us/step - loss: 1.3632e-07 - acc: 1.0000 - val_loss: 0.1567 - val_acc: 0.9808\n",
      "Epoch 197/200\n",
      "50000/50000 [==============================] - 1s 14us/step - loss: 1.3573e-07 - acc: 1.0000 - val_loss: 0.1568 - val_acc: 0.9809\n",
      "Epoch 198/200\n",
      "50000/50000 [==============================] - 1s 14us/step - loss: 1.3464e-07 - acc: 1.0000 - val_loss: 0.1568 - val_acc: 0.9809\n",
      "Epoch 199/200\n",
      "50000/50000 [==============================] - 1s 14us/step - loss: 1.3373e-07 - acc: 1.0000 - val_loss: 0.1573 - val_acc: 0.9809\n",
      "Epoch 200/200\n",
      "50000/50000 [==============================] - 1s 14us/step - loss: 1.3321e-07 - acc: 1.0000 - val_loss: 0.1572 - val_acc: 0.9809\n",
      "CPU times: user 11min 27s, sys: 1min 4s, total: 12min 32s\n",
      "Wall time: 2min 20s\n"
     ]
    },
    {
     "data": {
      "text/plain": [
       "<keras.callbacks.History at 0x1a2a40d5d0>"
      ]
     },
     "execution_count": 29,
     "metadata": {},
     "output_type": "execute_result"
    }
   ],
   "source": [
    "%%time\n",
    "model.fit(X_train, y_train_one_hot, validation_data=(X_val, y_val_one_hot), epochs=200, batch_size = 512);"
   ]
  },
  {
   "cell_type": "code",
   "execution_count": 30,
   "metadata": {},
   "outputs": [
    {
     "name": "stdout",
     "output_type": "stream",
     "text": [
      "10000/10000 [==============================] - 0s 19us/step\n",
      "('Loss, Accuracy = ', [0.17446766940470565, 0.9797])\n"
     ]
    }
   ],
   "source": [
    "# Save trained weights\n",
    "model.save(\"digit_keras_ann_weights.h5\")\n",
    "print(\"Loss, Accuracy = \", model.evaluate(X_test, y_test_one_hot))"
   ]
  },
  {
   "cell_type": "markdown",
   "metadata": {},
   "source": [
    "## Convolution Neural Network (CNN) Model:"
   ]
  },
  {
   "cell_type": "code",
   "execution_count": 31,
   "metadata": {},
   "outputs": [],
   "source": [
    "from keras.preprocessing.image import ImageDataGenerator\n",
    "from keras.models import Sequential\n",
    "from keras.layers import Convolution2D, MaxPooling2D\n",
    "from keras.layers import Flatten, Dense"
   ]
  },
  {
   "cell_type": "code",
   "execution_count": 32,
   "metadata": {},
   "outputs": [
    {
     "name": "stdout",
     "output_type": "stream",
     "text": [
      "_________________________________________________________________\n",
      "Layer (type)                 Output Shape              Param #   \n",
      "=================================================================\n",
      "conv2d_7 (Conv2D)            (None, 24, 24, 10)        260       \n",
      "_________________________________________________________________\n",
      "max_pooling2d_7 (MaxPooling2 (None, 12, 12, 10)        0         \n",
      "_________________________________________________________________\n",
      "conv2d_8 (Conv2D)            (None, 10, 10, 32)        2912      \n",
      "_________________________________________________________________\n",
      "max_pooling2d_8 (MaxPooling2 (None, 5, 5, 32)          0         \n",
      "_________________________________________________________________\n",
      "flatten_7 (Flatten)          (None, 800)               0         \n",
      "_________________________________________________________________\n",
      "dense_16 (Dense)             (None, 1000)              801000    \n",
      "_________________________________________________________________\n",
      "dense_17 (Dense)             (None, 10)                10010     \n",
      "=================================================================\n",
      "Total params: 814,182\n",
      "Trainable params: 814,182\n",
      "Non-trainable params: 0\n",
      "_________________________________________________________________\n"
     ]
    },
    {
     "name": "stderr",
     "output_type": "stream",
     "text": [
      "/anaconda2/lib/python2.7/site-packages/ipykernel_launcher.py:8: UserWarning: Update your `Conv2D` call to the Keras 2 API: `Conv2D(10, (5, 5), activation=\"relu\", input_shape=(28, 28, 1...)`\n",
      "  \n",
      "/anaconda2/lib/python2.7/site-packages/ipykernel_launcher.py:11: UserWarning: Update your `Conv2D` call to the Keras 2 API: `Conv2D(32, (3, 3), activation=\"relu\")`\n",
      "  # This is added back by InteractiveShellApp.init_path()\n"
     ]
    }
   ],
   "source": [
    "train_samples = 60000\n",
    "validation_samples = 10000\n",
    "epoch = 30\n",
    "\n",
    "# ** Model Begins **\n",
    "model = Sequential()\n",
    "\n",
    "model.add(Convolution2D(10, 5, 5, activation='relu', input_shape=(28, 28, 1)))\n",
    "model.add(MaxPooling2D(2, 2))\n",
    "\n",
    "model.add(Convolution2D(32, 3, 3, activation='relu'))\n",
    "model.add(MaxPooling2D(2, 2))\n",
    "\n",
    "model.add(Flatten())\n",
    "model.add(Dense(1000, activation='relu'))\n",
    "\n",
    "model.add(Dense(10, activation='softmax'))\n",
    "model.summary()"
   ]
  },
  {
   "cell_type": "code",
   "execution_count": 34,
   "metadata": {},
   "outputs": [
    {
     "name": "stdout",
     "output_type": "stream",
     "text": [
      "Train on 50000 samples, validate on 10000 samples\n",
      "Epoch 1/10\n",
      "50000/50000 [==============================] - 8s 170us/step - loss: 0.0653 - acc: 0.9778 - val_loss: 0.0213 - val_acc: 0.9930\n",
      "Epoch 2/10\n",
      "50000/50000 [==============================] - 8s 157us/step - loss: 0.0173 - acc: 0.9943 - val_loss: 0.0173 - val_acc: 0.9942\n",
      "Epoch 3/10\n",
      "50000/50000 [==============================] - 8s 161us/step - loss: 0.0111 - acc: 0.9962 - val_loss: 0.0096 - val_acc: 0.9972\n",
      "Epoch 4/10\n",
      "50000/50000 [==============================] - 8s 161us/step - loss: 0.0084 - acc: 0.9972 - val_loss: 0.0084 - val_acc: 0.9975\n",
      "Epoch 5/10\n",
      "50000/50000 [==============================] - 8s 161us/step - loss: 0.0064 - acc: 0.9980 - val_loss: 0.0084 - val_acc: 0.9975\n",
      "Epoch 6/10\n",
      "50000/50000 [==============================] - 8s 161us/step - loss: 0.0050 - acc: 0.9984 - val_loss: 0.0079 - val_acc: 0.9978\n",
      "Epoch 7/10\n",
      "50000/50000 [==============================] - 8s 161us/step - loss: 0.0041 - acc: 0.9986 - val_loss: 0.0067 - val_acc: 0.9979\n",
      "Epoch 8/10\n",
      "50000/50000 [==============================] - 8s 161us/step - loss: 0.0033 - acc: 0.9989 - val_loss: 0.0124 - val_acc: 0.9962\n",
      "Epoch 9/10\n",
      "50000/50000 [==============================] - 8s 162us/step - loss: 0.0027 - acc: 0.9991 - val_loss: 0.0074 - val_acc: 0.9978\n",
      "Epoch 10/10\n",
      "50000/50000 [==============================] - 8s 162us/step - loss: 0.0021 - acc: 0.9993 - val_loss: 0.0072 - val_acc: 0.9980\n"
     ]
    }
   ],
   "source": [
    "model.compile(loss='binary_crossentropy', optimizer='rmsprop',metrics=['accuracy'])\n",
    "model.fit(X_train.reshape(X_train.shape[0], 28, 28, 1), y_train_one_hot, validation_data=(X_val.reshape(X_val.shape[0],28, 28, 1), y_val_one_hot), epochs=10, batch_size = 512)\n",
    "model.save_weights('digit_keras_cnn_weights.h5')"
   ]
  },
  {
   "cell_type": "markdown",
   "metadata": {
    "collapsed": true
   },
   "source": [
    "## Test Case"
   ]
  },
  {
   "cell_type": "markdown",
   "metadata": {},
   "source": [
    "*** To Predict using the model above, we need to reshape the test example into (1, 28,28,1) shape ***"
   ]
  },
  {
   "cell_type": "code",
   "execution_count": 61,
   "metadata": {},
   "outputs": [
    {
     "name": "stdout",
     "output_type": "stream",
     "text": [
      "True Value: 1\n",
      "\n",
      "Predicted Value: 1\n"
     ]
    },
    {
     "data": {
      "image/png": "[encoded data removed]",
      "text/plain": [
       "<Figure size 432x288 with 1 Axes>"
      ]
     },
     "metadata": {
      "needs_background": "light"
     },
     "output_type": "display_data"
    }
   ],
   "source": [
    "index = 37\n",
    "\n",
    "print \"True Value:\", y_test[index]\n",
    "plt.imshow(X_test[index])\n",
    "\n",
    "print \"\\nPredicted Value:\", np.argmax(model.predict(X_test[index].reshape(1,28,28,1)))"
   ]
  },
  {
   "cell_type": "code",
   "execution_count": null,
   "metadata": {
    "collapsed": true
   },
   "outputs": [],
   "source": []
  }
 ],
 "metadata": {
  "kernelspec": {
   "display_name": "Python 2",
   "language": "python",
   "name": "python2"
  },
  "language_info": {
   "codemirror_mode": {
    "name": "ipython",
    "version": 2
   },
   "file_extension": ".py",
   "mimetype": "text/x-python",
   "name": "python",
   "nbconvert_exporter": "python",
   "pygments_lexer": "ipython2",
   "version": "2.7.15"
  }
 },
 "nbformat": 4,
 "nbformat_minor": 2
}
